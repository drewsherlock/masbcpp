{
 "cells": [
  {
   "cell_type": "code",
   "execution_count": 3,
   "metadata": {},
   "outputs": [
    {
     "name": "stdout",
     "output_type": "stream",
     "text": [
      "\r\n",
      "USAGE: \r\n",
      "\r\n",
      "   /tmp/stuff/masbcpp/compute_ma  [-a] [-r <double>] [-p <double>] [-d\r\n",
      "                                  <double>] [--] [--version] [-h] <input\r\n",
      "                                  dir> <output dir>\r\n",
      "\r\n",
      "\r\n",
      "Where: \r\n",
      "\r\n",
      "   -a,  --nan\r\n",
      "     write nan for points with radius equal to initial radius\r\n",
      "\r\n",
      "   -r <double>,  --radius <double>\r\n",
      "     initial ball radius\r\n",
      "\r\n",
      "   -p <double>,  --planar <double>\r\n",
      "     denoise planar threshold\r\n",
      "\r\n",
      "   -d <double>,  --preserve <double>\r\n",
      "     denoise preserve threshold\r\n",
      "\r\n",
      "   --,  --ignore_rest\r\n",
      "     Ignores the rest of the labeled arguments following this flag.\r\n",
      "\r\n",
      "   --version\r\n",
      "     Displays version information and exits.\r\n",
      "\r\n",
      "   -h,  --help\r\n",
      "     Displays usage information and exits.\r\n",
      "\r\n",
      "   <input dir>\r\n",
      "     (required)  path to directory with inside it a 'coords.npy' and a\r\n",
      "     'normals.npy' file. Both should be Nx3 float arrays where N is the\r\n",
      "     number of input points.\r\n",
      "\r\n",
      "   <output dir>\r\n",
      "     path to output directory\r\n",
      "\r\n",
      "\r\n",
      "   Computes a MAT point approximation, see also\r\n",
      "   https://github.com/tudelft3d/masbcpp\r\n",
      "\r\n"
     ]
    }
   ],
   "source": [
    "!/tmp/stuff/masbcpp/compute_ma --help"
   ]
  },
  {
   "cell_type": "code",
   "execution_count": null,
   "metadata": {},
   "outputs": [],
   "source": []
  }
 ],
 "metadata": {
  "kernelspec": {
   "display_name": "Python 3",
   "language": "python",
   "name": "python3"
  },
  "language_info": {
   "codemirror_mode": {
    "name": "ipython",
    "version": 3
   },
   "file_extension": ".py",
   "mimetype": "text/x-python",
   "name": "python",
   "nbconvert_exporter": "python",
   "pygments_lexer": "ipython3",
   "version": "3.8.5"
  }
 },
 "nbformat": 4,
 "nbformat_minor": 4
}
